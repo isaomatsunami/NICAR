{
 "cells": [
  {
   "cell_type": "markdown",
   "metadata": {},
   "source": [
    "## Newport Beach Analysis"
   ]
  },
  {
   "cell_type": "markdown",
   "metadata": {},
   "source": [
    "An analysis of race/ethnicity categories in Newport Beach, California."
   ]
  },
  {
   "cell_type": "markdown",
   "metadata": {},
   "source": [
    "### Load libraries and read in data\n",
    "\n",
    "The data are from the Census Bureau's 2013-2017 American Community Survey (Five-Year Estimates), table B03002, [HISPANIC OR LATINO ORIGIN BY RACE](https://factfinder.census.gov/bkmk/table/1.0/en/ACS/17_5YR/B03002/1600000US0651182). The numbers represent estimates over the five year period."
   ]
  },
  {
   "cell_type": "code",
   "execution_count": 6,
   "metadata": {},
   "outputs": [],
   "source": [
    "suppressMessages(library('tidyverse'))\n",
    "newport.beach <- suppressMessages(read_csv('input/newport_beach.csv'))"
   ]
  },
  {
   "cell_type": "markdown",
   "metadata": {},
   "source": [
    "### Create race/ethnicity categories\n",
    "\n",
    "Rename the race/ethnicity variables we want to keep into more intuitive names; e.g., \"white\" for non-Hispanic white, \"black\" for non-Hispanic black, etc. The \"other\" category includes non-Hispanic American Indian and Alaskan Native, Native Hawaiian and Other Pacific Islander, Some other race alone, and Two or more races."
   ]
  },
  {
   "cell_type": "code",
   "execution_count": 7,
   "metadata": {},
   "outputs": [],
   "source": [
    "newport.beach <- newport.beach %>% select(-summary_moe) %>%\n",
    "  mutate(cat = case_when(\n",
    "    variable == 'B03002_003' ~ \"white\",\n",
    "    variable == 'B03002_004' ~ \"black\",\n",
    "    variable == 'B03002_005' | variable == 'B03002_007' | variable == 'B03002_008' | variable == 'B03002_009' ~ \"other\",\n",
    "    variable == 'B03002_006' ~ \"asian\",\n",
    "    variable == 'B03002_012' ~ \"hisp\")) "
   ]
  },
  {
   "cell_type": "markdown",
   "metadata": {},
   "source": [
    "### Filter out unwanted categories and summarize the data by the newly-created categories"
   ]
  },
  {
   "cell_type": "code",
   "execution_count": 8,
   "metadata": {},
   "outputs": [],
   "source": [
    "newport.beach <- newport.beach %>% \n",
    "  filter(!is.na(cat)) %>% \n",
    "  group_by(GEOID, NAME, cat, summary_est) %>% \n",
    "  summarise(estimate = sum(estimate))"
   ]
  },
  {
   "cell_type": "markdown",
   "metadata": {},
   "source": [
    "### Calculate each category's percentage of total population and sort categories by percentage, from highest to lowest"
   ]
  },
  {
   "cell_type": "markdown",
   "metadata": {},
   "source": [
    "Notice how the table is automatically formatted nicely."
   ]
  },
  {
   "cell_type": "code",
   "execution_count": 9,
   "metadata": {},
   "outputs": [
    {
     "data": {
      "text/html": [
       "<table>\n",
       "<thead><tr><th scope=col>GEOID</th><th scope=col>NAME</th><th scope=col>cat</th><th scope=col>summary_est</th><th scope=col>estimate</th><th scope=col>perc</th></tr></thead>\n",
       "<tbody>\n",
       "\t<tr><td>0651182                       </td><td>Newport Beach city, California</td><td>white                         </td><td>86793                         </td><td>70471                         </td><td>81.1943359                    </td></tr>\n",
       "\t<tr><td>0651182                       </td><td>Newport Beach city, California</td><td>hisp                          </td><td>86793                         </td><td> 6915                         </td><td> 7.9672324                    </td></tr>\n",
       "\t<tr><td>0651182                       </td><td>Newport Beach city, California</td><td>asian                         </td><td>86793                         </td><td> 6604                         </td><td> 7.6089086                    </td></tr>\n",
       "\t<tr><td>0651182                       </td><td>Newport Beach city, California</td><td>other                         </td><td>86793                         </td><td> 2267                         </td><td> 2.6119618                    </td></tr>\n",
       "\t<tr><td>0651182                       </td><td>Newport Beach city, California</td><td>black                         </td><td>86793                         </td><td>  536                         </td><td> 0.6175613                    </td></tr>\n",
       "</tbody>\n",
       "</table>\n"
      ],
      "text/latex": [
       "\\begin{tabular}{r|llllll}\n",
       " GEOID & NAME & cat & summary\\_est & estimate & perc\\\\\n",
       "\\hline\n",
       "\t 0651182                        & Newport Beach city, California & white                          & 86793                          & 70471                          & 81.1943359                    \\\\\n",
       "\t 0651182                        & Newport Beach city, California & hisp                           & 86793                          &  6915                          &  7.9672324                    \\\\\n",
       "\t 0651182                        & Newport Beach city, California & asian                          & 86793                          &  6604                          &  7.6089086                    \\\\\n",
       "\t 0651182                        & Newport Beach city, California & other                          & 86793                          &  2267                          &  2.6119618                    \\\\\n",
       "\t 0651182                        & Newport Beach city, California & black                          & 86793                          &   536                          &  0.6175613                    \\\\\n",
       "\\end{tabular}\n"
      ],
      "text/markdown": [
       "\n",
       "| GEOID | NAME | cat | summary_est | estimate | perc |\n",
       "|---|---|---|---|---|---|\n",
       "| 0651182                        | Newport Beach city, California | white                          | 86793                          | 70471                          | 81.1943359                     |\n",
       "| 0651182                        | Newport Beach city, California | hisp                           | 86793                          |  6915                          |  7.9672324                     |\n",
       "| 0651182                        | Newport Beach city, California | asian                          | 86793                          |  6604                          |  7.6089086                     |\n",
       "| 0651182                        | Newport Beach city, California | other                          | 86793                          |  2267                          |  2.6119618                     |\n",
       "| 0651182                        | Newport Beach city, California | black                          | 86793                          |   536                          |  0.6175613                     |\n",
       "\n"
      ],
      "text/plain": [
       "  GEOID   NAME                           cat   summary_est estimate perc      \n",
       "1 0651182 Newport Beach city, California white 86793       70471    81.1943359\n",
       "2 0651182 Newport Beach city, California hisp  86793        6915     7.9672324\n",
       "3 0651182 Newport Beach city, California asian 86793        6604     7.6089086\n",
       "4 0651182 Newport Beach city, California other 86793        2267     2.6119618\n",
       "5 0651182 Newport Beach city, California black 86793         536     0.6175613"
      ]
     },
     "metadata": {},
     "output_type": "display_data"
    }
   ],
   "source": [
    "newport.beach <- newport.beach %>% \n",
    "  mutate(perc = estimate/summary_est * 100) %>% \n",
    "  arrange(desc(perc))\n",
    "\n",
    "newport.beach"
   ]
  },
  {
   "cell_type": "markdown",
   "metadata": {},
   "source": [
    "### Write to a CSV"
   ]
  },
  {
   "cell_type": "code",
   "execution_count": 10,
   "metadata": {},
   "outputs": [],
   "source": [
    "write_csv(newport.beach, 'output/newport_beach_cleaned.csv')"
   ]
  }
 ],
 "metadata": {
  "kernelspec": {
   "display_name": "R",
   "language": "R",
   "name": "ir"
  },
  "language_info": {
   "codemirror_mode": "r",
   "file_extension": ".r",
   "mimetype": "text/x-r-source",
   "name": "R",
   "pygments_lexer": "r",
   "version": "3.5.1"
  }
 },
 "nbformat": 4,
 "nbformat_minor": 2
}
